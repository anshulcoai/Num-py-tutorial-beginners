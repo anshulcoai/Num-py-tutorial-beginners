{
 "cells": [
  {
   "cell_type": "code",
   "execution_count": 1,
   "id": "740fe2bd-065c-432e-adcb-0a84a8044cfa",
   "metadata": {},
   "outputs": [],
   "source": [
    "import numpy as np"
   ]
  },
  {
   "cell_type": "markdown",
   "id": "8e756ba2-d4f0-4d9e-83dd-367812eedb08",
   "metadata": {},
   "source": [
    "**Create a Numpy array with values ranging from 1 to 20.**"
   ]
  },
  {
   "cell_type": "code",
   "execution_count": 2,
   "id": "c7fd1428-f637-4dab-b270-1fa79b42ac0a",
   "metadata": {},
   "outputs": [],
   "source": [
    "a=np.arange(1,21)"
   ]
  },
  {
   "cell_type": "code",
   "execution_count": 3,
   "id": "cac3eb27-0844-4ccf-b48f-4665dae568c7",
   "metadata": {},
   "outputs": [
    {
     "data": {
      "text/plain": [
       "array([ 1,  2,  3,  4,  5,  6,  7,  8,  9, 10, 11, 12, 13, 14, 15, 16, 17,\n",
       "       18, 19, 20])"
      ]
     },
     "execution_count": 3,
     "metadata": {},
     "output_type": "execute_result"
    }
   ],
   "source": [
    "a"
   ]
  },
  {
   "cell_type": "markdown",
   "id": "39933945-6316-483d-96da-bc66903750b9",
   "metadata": {},
   "source": [
    "**Create a 5x5 array filled with random integers between 10 and 50**"
   ]
  },
  {
   "cell_type": "code",
   "execution_count": 4,
   "id": "89066c80-7510-47fe-9bf3-3290dd835f4b",
   "metadata": {},
   "outputs": [],
   "source": [
    "b=np.random.randint(10,50,(5,5))"
   ]
  },
  {
   "cell_type": "code",
   "execution_count": 5,
   "id": "1fa6bb51-35ea-44dc-aa1b-fc7b563f0b5f",
   "metadata": {},
   "outputs": [
    {
     "data": {
      "text/plain": [
       "array([[35, 17, 27, 27, 37],\n",
       "       [25, 39, 28, 22, 18],\n",
       "       [38, 17, 26, 17, 22],\n",
       "       [21, 47, 16, 18, 46],\n",
       "       [10, 37, 20, 49, 27]], dtype=int32)"
      ]
     },
     "execution_count": 5,
     "metadata": {},
     "output_type": "execute_result"
    }
   ],
   "source": [
    "b"
   ]
  },
  {
   "cell_type": "markdown",
   "id": "0dcf0d16-ecaf-48c3-ab70-0b8084e19ae1",
   "metadata": {},
   "source": [
    "**Check the shape,size and datatype of a Numpy array.**"
   ]
  },
  {
   "cell_type": "code",
   "execution_count": 6,
   "id": "a532b7fd-9bba-48f8-8bcd-b9d496bab6d4",
   "metadata": {},
   "outputs": [
    {
     "data": {
      "text/plain": [
       "(5, 5)"
      ]
     },
     "execution_count": 6,
     "metadata": {},
     "output_type": "execute_result"
    }
   ],
   "source": [
    "b.shape"
   ]
  },
  {
   "cell_type": "code",
   "execution_count": 7,
   "id": "ba65384a-35f8-4f4e-b54c-df0fc9f6704c",
   "metadata": {},
   "outputs": [
    {
     "data": {
      "text/plain": [
       "(20,)"
      ]
     },
     "execution_count": 7,
     "metadata": {},
     "output_type": "execute_result"
    }
   ],
   "source": [
    "a.shape"
   ]
  },
  {
   "cell_type": "code",
   "execution_count": 8,
   "id": "f5b4a403-5e8d-4f2b-9d16-12b2398fb4bf",
   "metadata": {},
   "outputs": [
    {
     "data": {
      "text/plain": [
       "25"
      ]
     },
     "execution_count": 8,
     "metadata": {},
     "output_type": "execute_result"
    }
   ],
   "source": [
    "b.size"
   ]
  },
  {
   "cell_type": "code",
   "execution_count": 9,
   "id": "43e2a4ad-0ad9-45ad-b379-aa7e74fafb65",
   "metadata": {},
   "outputs": [
    {
     "data": {
      "text/plain": [
       "20"
      ]
     },
     "execution_count": 9,
     "metadata": {},
     "output_type": "execute_result"
    }
   ],
   "source": [
    "a.size"
   ]
  },
  {
   "cell_type": "code",
   "execution_count": 10,
   "id": "1aaa76c7-3738-42bd-96d5-2cb041f2dcc0",
   "metadata": {},
   "outputs": [
    {
     "data": {
      "text/plain": [
       "dtype('int32')"
      ]
     },
     "execution_count": 10,
     "metadata": {},
     "output_type": "execute_result"
    }
   ],
   "source": [
    "b.dtype"
   ]
  },
  {
   "cell_type": "code",
   "execution_count": 11,
   "id": "3fc1ef99-49cb-44ae-99d5-48f8e3440146",
   "metadata": {},
   "outputs": [
    {
     "data": {
      "text/plain": [
       "dtype('int64')"
      ]
     },
     "execution_count": 11,
     "metadata": {},
     "output_type": "execute_result"
    }
   ],
   "source": [
    "a.dtype"
   ]
  },
  {
   "cell_type": "markdown",
   "id": "a181c435-a731-4bf8-aa8f-02c662265ac3",
   "metadata": {},
   "source": [
    "**Create an array of 10 evenly spaced values between 0 and 100.**"
   ]
  },
  {
   "cell_type": "code",
   "execution_count": 30,
   "id": "33e8d521-f3b4-4ccb-937e-83a6201706a5",
   "metadata": {},
   "outputs": [],
   "source": [
    "c=np.linspace(0,100,11,dtype=int)"
   ]
  },
  {
   "cell_type": "code",
   "execution_count": 31,
   "id": "b18df352-30ad-4301-b513-5948c99e6762",
   "metadata": {},
   "outputs": [
    {
     "data": {
      "text/plain": [
       "array([  0,  10,  20,  30,  40,  50,  60,  70,  80,  90, 100])"
      ]
     },
     "execution_count": 31,
     "metadata": {},
     "output_type": "execute_result"
    }
   ],
   "source": [
    "c"
   ]
  },
  {
   "cell_type": "markdown",
   "id": "2c4f3fb3-458f-49b0-89f8-071a7530aa5c",
   "metadata": {},
   "source": [
    "**Generate a 3x3 identity matrix using Numpy**"
   ]
  },
  {
   "cell_type": "code",
   "execution_count": 36,
   "id": "d12448db-87ad-429c-9cd3-7647164482dc",
   "metadata": {},
   "outputs": [],
   "source": [
    "d=np.identity(3)"
   ]
  },
  {
   "cell_type": "code",
   "execution_count": 37,
   "id": "f7aa17f0-704c-4cd0-ac6b-51a2477da6fe",
   "metadata": {},
   "outputs": [
    {
     "data": {
      "text/plain": [
       "array([[1., 0., 0.],\n",
       "       [0., 1., 0.],\n",
       "       [0., 0., 1.]])"
      ]
     },
     "execution_count": 37,
     "metadata": {},
     "output_type": "execute_result"
    }
   ],
   "source": [
    "d"
   ]
  },
  {
   "cell_type": "markdown",
   "id": "0a7c7600-444a-42c4-9ccd-2aac3ac40735",
   "metadata": {},
   "source": [
    "**Extract all even numbers from a given Numpy array.**"
   ]
  },
  {
   "cell_type": "code",
   "execution_count": 38,
   "id": "1f28f13b-4fed-4e3f-8b75-af23f4f58079",
   "metadata": {},
   "outputs": [
    {
     "data": {
      "text/plain": [
       "array([0., 0., 0., 0., 0., 0.])"
      ]
     },
     "execution_count": 38,
     "metadata": {},
     "output_type": "execute_result"
    }
   ],
   "source": [
    "d[d%2==0]"
   ]
  },
  {
   "cell_type": "code",
   "execution_count": 39,
   "id": "2accaec0-c9b7-465d-91fb-41841530d961",
   "metadata": {},
   "outputs": [
    {
     "data": {
      "text/plain": [
       "array([  0,  10,  20,  30,  40,  50,  60,  70,  80,  90, 100])"
      ]
     },
     "execution_count": 39,
     "metadata": {},
     "output_type": "execute_result"
    }
   ],
   "source": [
    "c[c%2==0]"
   ]
  },
  {
   "cell_type": "code",
   "execution_count": 40,
   "id": "d88846a9-a897-42a3-b35e-d94b03267fbe",
   "metadata": {},
   "outputs": [
    {
     "data": {
      "text/plain": [
       "array([28, 22, 18, 38, 26, 22, 16, 18, 46, 10, 20], dtype=int32)"
      ]
     },
     "execution_count": 40,
     "metadata": {},
     "output_type": "execute_result"
    }
   ],
   "source": [
    "b[b%2==0]"
   ]
  },
  {
   "cell_type": "markdown",
   "id": "dd784ae1-e3dc-4c46-a139-8190268c4996",
   "metadata": {},
   "source": [
    "**Retrieve the second row and  third column of a 3x3 matrix.**"
   ]
  },
  {
   "cell_type": "code",
   "execution_count": 41,
   "id": "43a4a4da-ee5a-4fab-bfb6-b6dffa72b770",
   "metadata": {},
   "outputs": [],
   "source": [
    "e=np.array([[1,2,3],[4,5,6],[7,8,9]])"
   ]
  },
  {
   "cell_type": "code",
   "execution_count": 42,
   "id": "a2476639-8ae2-4ec6-9875-45e8fc271ecd",
   "metadata": {},
   "outputs": [
    {
     "data": {
      "text/plain": [
       "array([[1, 2, 3],\n",
       "       [4, 5, 6],\n",
       "       [7, 8, 9]])"
      ]
     },
     "execution_count": 42,
     "metadata": {},
     "output_type": "execute_result"
    }
   ],
   "source": [
    "e"
   ]
  },
  {
   "cell_type": "code",
   "execution_count": 53,
   "id": "874bc62c-81a9-40c6-8c20-1b3655f03f1f",
   "metadata": {},
   "outputs": [
    {
     "data": {
      "text/plain": [
       "array([4, 5, 6])"
      ]
     },
     "execution_count": 53,
     "metadata": {},
     "output_type": "execute_result"
    }
   ],
   "source": [
    "e[1]"
   ]
  },
  {
   "cell_type": "code",
   "execution_count": 55,
   "id": "4a064b9c-541c-4fdf-ac35-51e508d28973",
   "metadata": {},
   "outputs": [
    {
     "data": {
      "text/plain": [
       "array([3, 6, 9])"
      ]
     },
     "execution_count": 55,
     "metadata": {},
     "output_type": "execute_result"
    }
   ],
   "source": [
    "e[:,2]"
   ]
  },
  {
   "cell_type": "markdown",
   "id": "3b3c5279-fd3b-4b66-88ff-e26717dc82d8",
   "metadata": {},
   "source": [
    "**Reverse the element of a Numpy array**"
   ]
  },
  {
   "cell_type": "code",
   "execution_count": 56,
   "id": "1d887b68-a8e7-4363-8480-6d734a4d7aa8",
   "metadata": {},
   "outputs": [
    {
     "data": {
      "text/plain": [
       "array([[1, 4, 7],\n",
       "       [2, 5, 8],\n",
       "       [3, 6, 9]])"
      ]
     },
     "execution_count": 56,
     "metadata": {},
     "output_type": "execute_result"
    }
   ],
   "source": [
    "e.T"
   ]
  },
  {
   "cell_type": "markdown",
   "id": "c2f2767a-281f-4a8d-96a6-7197484bbd49",
   "metadata": {},
   "source": [
    "**Convert a 1D array of size 12 into a 3x4 matrix.**"
   ]
  },
  {
   "cell_type": "code",
   "execution_count": 60,
   "id": "f909255d-dce7-4c3f-b8ae-b64cc520ac65",
   "metadata": {},
   "outputs": [],
   "source": [
    "f=np.array([1,2,3,4,5,6,7,8,9,10,11,12])"
   ]
  },
  {
   "cell_type": "code",
   "execution_count": 61,
   "id": "54f3ebaa-881b-4cd8-8a4a-91cd33c8e149",
   "metadata": {},
   "outputs": [
    {
     "data": {
      "text/plain": [
       "array([ 1,  2,  3,  4,  5,  6,  7,  8,  9, 10, 11, 12])"
      ]
     },
     "execution_count": 61,
     "metadata": {},
     "output_type": "execute_result"
    }
   ],
   "source": [
    "f"
   ]
  },
  {
   "cell_type": "code",
   "execution_count": 62,
   "id": "e7a4e4a1-64f2-4b63-99b3-fe8f69840220",
   "metadata": {},
   "outputs": [
    {
     "data": {
      "text/plain": [
       "array([[ 1,  2,  3,  4],\n",
       "       [ 5,  6,  7,  8],\n",
       "       [ 9, 10, 11, 12]])"
      ]
     },
     "execution_count": 62,
     "metadata": {},
     "output_type": "execute_result"
    }
   ],
   "source": [
    "f.reshape(3,4)"
   ]
  },
  {
   "cell_type": "markdown",
   "id": "83b389fb-c29e-40f2-82e1-25b85d301cbc",
   "metadata": {},
   "source": [
    "**Flatten 2D matrix into a 1D array**"
   ]
  },
  {
   "cell_type": "code",
   "execution_count": 63,
   "id": "4318294a-ce6f-4c4e-912c-e6e64fd3c7df",
   "metadata": {},
   "outputs": [],
   "source": [
    "g=np.array([[2,3,4],[5,6,7]])"
   ]
  },
  {
   "cell_type": "code",
   "execution_count": 64,
   "id": "9379c475-7ff2-4b42-bec4-108f348ae379",
   "metadata": {},
   "outputs": [
    {
     "data": {
      "text/plain": [
       "array([[2, 3, 4],\n",
       "       [5, 6, 7]])"
      ]
     },
     "execution_count": 64,
     "metadata": {},
     "output_type": "execute_result"
    }
   ],
   "source": [
    "g"
   ]
  },
  {
   "cell_type": "code",
   "execution_count": 67,
   "id": "90890bf7-68d4-4ca3-8450-ba8051805e42",
   "metadata": {},
   "outputs": [
    {
     "data": {
      "text/plain": [
       "<numpy.flatiter at 0x217646629b0>"
      ]
     },
     "execution_count": 67,
     "metadata": {},
     "output_type": "execute_result"
    }
   ],
   "source": [
    "g.flat"
   ]
  },
  {
   "cell_type": "code",
   "execution_count": 68,
   "id": "27f05583-d62b-484b-bd50-39a300dd7768",
   "metadata": {},
   "outputs": [
    {
     "name": "stdout",
     "output_type": "stream",
     "text": [
      "2\n",
      "3\n",
      "4\n",
      "5\n",
      "6\n",
      "7\n"
     ]
    }
   ],
   "source": [
    "for i in g.flat:\n",
    "    print(i)"
   ]
  },
  {
   "cell_type": "code",
   "execution_count": 69,
   "id": "d8919aeb-52de-4898-ab5b-d495bc54e5e9",
   "metadata": {},
   "outputs": [
    {
     "data": {
      "text/plain": [
       "array([[2],\n",
       "       [3],\n",
       "       [4],\n",
       "       [5],\n",
       "       [6],\n",
       "       [7]])"
      ]
     },
     "execution_count": 69,
     "metadata": {},
     "output_type": "execute_result"
    }
   ],
   "source": [
    "g.reshape(6,1)"
   ]
  },
  {
   "cell_type": "markdown",
   "id": "69a7abdc-e640-4363-9b6b-02974e4552a6",
   "metadata": {},
   "source": [
    "**Compute the square of each element in an array.**"
   ]
  },
  {
   "cell_type": "code",
   "execution_count": 72,
   "id": "4cd113eb-73b7-4b65-a867-5960cff44cca",
   "metadata": {},
   "outputs": [
    {
     "data": {
      "text/plain": [
       "array([[ 4,  9, 16],\n",
       "       [25, 36, 49]])"
      ]
     },
     "execution_count": 72,
     "metadata": {},
     "output_type": "execute_result"
    }
   ],
   "source": [
    "g*g"
   ]
  },
  {
   "cell_type": "code",
   "execution_count": 73,
   "id": "e530f14b-ae6f-46ad-b57f-20b9363d6af5",
   "metadata": {},
   "outputs": [
    {
     "data": {
      "text/plain": [
       "array([  1,   4,   9,  16,  25,  36,  49,  64,  81, 100, 121, 144])"
      ]
     },
     "execution_count": 73,
     "metadata": {},
     "output_type": "execute_result"
    }
   ],
   "source": [
    "f*f"
   ]
  },
  {
   "cell_type": "markdown",
   "id": "f4076add-7b67-4dd6-ac21-09dce6897603",
   "metadata": {},
   "source": [
    "**Find the mean,median, and standard deviation of an array.**"
   ]
  },
  {
   "cell_type": "code",
   "execution_count": 74,
   "id": "ef751cf6-4259-429f-bdc7-a0c2085679c0",
   "metadata": {},
   "outputs": [
    {
     "data": {
      "text/plain": [
       "np.float64(4.5)"
      ]
     },
     "execution_count": 74,
     "metadata": {},
     "output_type": "execute_result"
    }
   ],
   "source": [
    "np.mean(g)"
   ]
  },
  {
   "cell_type": "code",
   "execution_count": 75,
   "id": "3fc3972f-dcb5-41b2-a10c-0205a3bbc956",
   "metadata": {
    "collapsed": true,
    "jupyter": {
     "outputs_hidden": true
    }
   },
   "outputs": [
    {
     "data": {
      "text/plain": [
       "np.float64(4.5)"
      ]
     },
     "execution_count": 75,
     "metadata": {},
     "output_type": "execute_result"
    }
   ],
   "source": [
    "np.median(g)"
   ]
  },
  {
   "cell_type": "code",
   "execution_count": 77,
   "id": "6bc93214-3525-4d5a-93a8-ae334c8a25ab",
   "metadata": {},
   "outputs": [
    {
     "data": {
      "text/plain": [
       "np.float64(1.707825127659933)"
      ]
     },
     "execution_count": 77,
     "metadata": {},
     "output_type": "execute_result"
    }
   ],
   "source": [
    "np.std(g)"
   ]
  },
  {
   "cell_type": "code",
   "execution_count": 78,
   "id": "6ca1874f-63bb-4222-8bca-6c9411c9a7bf",
   "metadata": {},
   "outputs": [
    {
     "data": {
      "text/plain": [
       "np.float64(6.5)"
      ]
     },
     "execution_count": 78,
     "metadata": {},
     "output_type": "execute_result"
    }
   ],
   "source": [
    "np.mean(f)"
   ]
  },
  {
   "cell_type": "code",
   "execution_count": 79,
   "id": "c7dc4239-2d4c-4dc6-a554-a6dc2464f866",
   "metadata": {},
   "outputs": [
    {
     "data": {
      "text/plain": [
       "np.float64(6.5)"
      ]
     },
     "execution_count": 79,
     "metadata": {},
     "output_type": "execute_result"
    }
   ],
   "source": [
    "np.median(f)"
   ]
  },
  {
   "cell_type": "code",
   "execution_count": 80,
   "id": "8f977680-f043-40da-8b11-5e2ed56f22ee",
   "metadata": {},
   "outputs": [
    {
     "data": {
      "text/plain": [
       "np.float64(3.452052529534663)"
      ]
     },
     "execution_count": 80,
     "metadata": {},
     "output_type": "execute_result"
    }
   ],
   "source": [
    "np.std(f)"
   ]
  },
  {
   "cell_type": "markdown",
   "id": "625e6a54-92ba-4209-8d05-b6cb3c9f8f18",
   "metadata": {},
   "source": [
    "**Compute the cumulative sum of an array.**"
   ]
  },
  {
   "cell_type": "code",
   "execution_count": 81,
   "id": "eadbc5d0-52de-4ebd-966f-002d43d982f9",
   "metadata": {},
   "outputs": [
    {
     "data": {
      "text/plain": [
       "array([ 2,  5,  9, 14, 20, 27])"
      ]
     },
     "execution_count": 81,
     "metadata": {},
     "output_type": "execute_result"
    }
   ],
   "source": [
    "np.cumsum(g)"
   ]
  },
  {
   "cell_type": "code",
   "execution_count": 82,
   "id": "df7a3a56-734b-4f2b-b6de-eeef18d1aa73",
   "metadata": {},
   "outputs": [
    {
     "data": {
      "text/plain": [
       "array([ 1,  3,  6, 10, 15, 21, 28, 36, 45, 55, 66, 78])"
      ]
     },
     "execution_count": 82,
     "metadata": {},
     "output_type": "execute_result"
    }
   ],
   "source": [
    "np.cumsum(f)"
   ]
  },
  {
   "cell_type": "markdown",
   "id": "31f901de-c347-4690-80b3-4ca6c50a01fd",
   "metadata": {},
   "source": [
    "**Normalize an array so that its values range between 0 and 1.**"
   ]
  },
  {
   "cell_type": "code",
   "execution_count": 83,
   "id": "2d7f2786-b006-48ed-aa07-eae30065a9fe",
   "metadata": {},
   "outputs": [],
   "source": [
    "h=(g-np.min(g)) / (np.max(g)-np.min(g))"
   ]
  },
  {
   "cell_type": "code",
   "execution_count": 84,
   "id": "634b5418-254b-4c67-8c69-111cc0cb93a5",
   "metadata": {},
   "outputs": [
    {
     "data": {
      "text/plain": [
       "array([[0. , 0.2, 0.4],\n",
       "       [0.6, 0.8, 1. ]])"
      ]
     },
     "execution_count": 84,
     "metadata": {},
     "output_type": "execute_result"
    }
   ],
   "source": [
    "h"
   ]
  },
  {
   "cell_type": "markdown",
   "id": "b4fb8ce0-9de8-40ce-ab63-98a97121f3e5",
   "metadata": {},
   "source": [
    "**Find the Determinant of a square martrix.**"
   ]
  },
  {
   "cell_type": "code",
   "execution_count": 89,
   "id": "a1f615f5-bf7f-4482-8888-379750091780",
   "metadata": {},
   "outputs": [],
   "source": [
    "i=np.array([[1, 2], [3, 4]])"
   ]
  },
  {
   "cell_type": "code",
   "execution_count": 90,
   "id": "fdb4a80c-f58c-46db-80e6-86e07e8e05d4",
   "metadata": {},
   "outputs": [
    {
     "data": {
      "text/plain": [
       "np.float64(-2.0000000000000004)"
      ]
     },
     "execution_count": 90,
     "metadata": {},
     "output_type": "execute_result"
    }
   ],
   "source": [
    "np.linalg.det(i)"
   ]
  },
  {
   "cell_type": "markdown",
   "id": "237c4c4d-7e7b-42b9-9a0a-9017850d4043",
   "metadata": {},
   "source": [
    "**Replace all negative values in an array with zero.**"
   ]
  },
  {
   "cell_type": "code",
   "execution_count": 115,
   "id": "abb08d3b-f924-4835-972d-08edbd4dc2f8",
   "metadata": {},
   "outputs": [],
   "source": [
    "x1=np.array([[-2,-3,2],[-9,5,6],[-6,4,3]])"
   ]
  },
  {
   "cell_type": "code",
   "execution_count": 116,
   "id": "07be18d0-2255-4786-b6e4-f335b44ed101",
   "metadata": {},
   "outputs": [
    {
     "data": {
      "text/plain": [
       "array([[-2, -3,  2],\n",
       "       [-9,  5,  6],\n",
       "       [-6,  4,  3]])"
      ]
     },
     "execution_count": 116,
     "metadata": {},
     "output_type": "execute_result"
    }
   ],
   "source": [
    "x1"
   ]
  },
  {
   "cell_type": "code",
   "execution_count": 119,
   "id": "0dccbef5-e075-4a25-98a0-212ef70f973d",
   "metadata": {},
   "outputs": [
    {
     "name": "stdout",
     "output_type": "stream",
     "text": [
      "[[0 0 2]\n",
      " [0 5 6]\n",
      " [0 4 3]]\n"
     ]
    }
   ],
   "source": [
    "x1[x1<0]=0\n",
    "print(x1)"
   ]
  },
  {
   "cell_type": "markdown",
   "id": "21a0a787-4ee1-4247-8f00-db742b8cdfa8",
   "metadata": {},
   "source": [
    "**Extract all elements greater than 50 from an array.**"
   ]
  },
  {
   "cell_type": "code",
   "execution_count": 120,
   "id": "d8d99c16-20a3-43df-bfb2-3ab21052f69e",
   "metadata": {},
   "outputs": [],
   "source": [
    "f1=np.array([[45,67,87],[90,87,54],[35,65,43]])"
   ]
  },
  {
   "cell_type": "code",
   "execution_count": 121,
   "id": "06a0d826-8296-4e95-8e01-0b9ecf817937",
   "metadata": {},
   "outputs": [
    {
     "data": {
      "text/plain": [
       "array([[45, 67, 87],\n",
       "       [90, 87, 54],\n",
       "       [35, 65, 43]])"
      ]
     },
     "execution_count": 121,
     "metadata": {},
     "output_type": "execute_result"
    }
   ],
   "source": [
    "f1"
   ]
  },
  {
   "cell_type": "code",
   "execution_count": 124,
   "id": "25716c07-5f67-45a4-8c02-68b182f8d4c2",
   "metadata": {},
   "outputs": [
    {
     "data": {
      "text/plain": [
       "array([67, 87, 90, 87, 54, 65])"
      ]
     },
     "execution_count": 124,
     "metadata": {},
     "output_type": "execute_result"
    }
   ],
   "source": [
    "f1[f1>50]"
   ]
  },
  {
   "cell_type": "markdown",
   "id": "2a85c5d4-730b-4acc-8b7c-bdebfd3f9ec3",
   "metadata": {},
   "source": [
    "**Check if any elements in an array is greater than a given value.**"
   ]
  },
  {
   "cell_type": "code",
   "execution_count": 125,
   "id": "d2d5ee65-d6f7-4191-beed-db2d14bfe4e3",
   "metadata": {},
   "outputs": [],
   "source": [
    "value=20"
   ]
  },
  {
   "cell_type": "code",
   "execution_count": 130,
   "id": "8d88aa95-d755-408f-a471-556d96597601",
   "metadata": {},
   "outputs": [
    {
     "data": {
      "text/plain": [
       "np.False_"
      ]
     },
     "execution_count": 130,
     "metadata": {},
     "output_type": "execute_result"
    }
   ],
   "source": [
    "np.any(f1<value)"
   ]
  },
  {
   "cell_type": "code",
   "execution_count": 131,
   "id": "eb2d3f12-5ad0-436b-a536-9db25bc1938e",
   "metadata": {},
   "outputs": [
    {
     "data": {
      "text/plain": [
       "np.True_"
      ]
     },
     "execution_count": 131,
     "metadata": {},
     "output_type": "execute_result"
    }
   ],
   "source": [
    "np.any(f1>value)"
   ]
  },
  {
   "cell_type": "markdown",
   "id": "732231d1-4861-4c29-9465-690e026f2913",
   "metadata": {},
   "source": [
    "**Replace all values divisble by 3 in an array with -1.**"
   ]
  },
  {
   "cell_type": "code",
   "execution_count": 133,
   "id": "5eb37452-e58d-4ae8-b611-ca01363a4f76",
   "metadata": {},
   "outputs": [
    {
     "name": "stdout",
     "output_type": "stream",
     "text": [
      "[[-1 67 -1]\n",
      " [-1 -1 -1]\n",
      " [35 65 43]]\n"
     ]
    }
   ],
   "source": [
    "f1[f1%3==0]=-1\n",
    "print(f1)"
   ]
  },
  {
   "cell_type": "markdown",
   "id": "35ba90e3-56f3-41a3-ab8d-b286f92009f0",
   "metadata": {},
   "source": [
    "**Count the number of occurence of each unique value in an array.**"
   ]
  },
  {
   "cell_type": "code",
   "execution_count": 136,
   "id": "a1e62808-7676-4404-af70-b13ad57a997d",
   "metadata": {},
   "outputs": [],
   "source": [
    "d3=np.array([1,2,2,3,3,3,4,4,4,1,1,2,2,2,2,5,5,6,6,7,8,8,8,9])"
   ]
  },
  {
   "cell_type": "code",
   "execution_count": 137,
   "id": "2ea71100-1c43-40b4-ac70-65257470184c",
   "metadata": {},
   "outputs": [
    {
     "data": {
      "text/plain": [
       "array([1, 2, 2, 3, 3, 3, 4, 4, 4, 1, 1, 2, 2, 2, 2, 5, 5, 6, 6, 7, 8, 8,\n",
       "       8, 9])"
      ]
     },
     "execution_count": 137,
     "metadata": {},
     "output_type": "execute_result"
    }
   ],
   "source": [
    "d3"
   ]
  },
  {
   "cell_type": "code",
   "execution_count": 143,
   "id": "d54ffb3e-efa9-4472-9304-1c7a1c0f7df9",
   "metadata": {},
   "outputs": [
    {
     "data": {
      "text/plain": [
       "(array([1, 2, 3, 4, 5, 6, 7, 8, 9]), array([3, 6, 3, 3, 2, 2, 1, 3, 1]))"
      ]
     },
     "execution_count": 143,
     "metadata": {},
     "output_type": "execute_result"
    }
   ],
   "source": [
    "np.unique(d3, return_counts=True)"
   ]
  },
  {
   "cell_type": "code",
   "execution_count": null,
   "id": "af7aa009-beb4-4f5c-be0f-53f747d2d49b",
   "metadata": {},
   "outputs": [],
   "source": []
  },
  {
   "cell_type": "code",
   "execution_count": null,
   "id": "7138b63f-71d6-47f2-b504-f55c8b852601",
   "metadata": {},
   "outputs": [],
   "source": []
  }
 ],
 "metadata": {
  "kernelspec": {
   "display_name": "Python 3 (ipykernel)",
   "language": "python",
   "name": "python3"
  },
  "language_info": {
   "codemirror_mode": {
    "name": "ipython",
    "version": 3
   },
   "file_extension": ".py",
   "mimetype": "text/x-python",
   "name": "python",
   "nbconvert_exporter": "python",
   "pygments_lexer": "ipython3",
   "version": "3.13.0"
  }
 },
 "nbformat": 4,
 "nbformat_minor": 5
}
