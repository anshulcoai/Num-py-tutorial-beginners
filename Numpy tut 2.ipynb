{
 "cells": [
  {
   "cell_type": "code",
   "execution_count": 1,
   "id": "f25fd28e-e8a3-4abd-b47c-0db69738bfca",
   "metadata": {},
   "outputs": [],
   "source": [
    "import numpy as np"
   ]
  },
  {
   "cell_type": "markdown",
   "id": "243237f1-35a5-4f08-8c79-6bccee9ad729",
   "metadata": {},
   "source": [
    "**create a 1D array with values from 1 to 10.**"
   ]
  },
  {
   "cell_type": "code",
   "execution_count": 2,
   "id": "a27b37eb-b479-4391-b559-65b588b6d00b",
   "metadata": {},
   "outputs": [],
   "source": [
    "a=np.arange(11)"
   ]
  },
  {
   "cell_type": "code",
   "execution_count": 3,
   "id": "29451ada-a755-4a8a-9472-33fc0e92ace7",
   "metadata": {},
   "outputs": [
    {
     "data": {
      "text/plain": [
       "array([ 0,  1,  2,  3,  4,  5,  6,  7,  8,  9, 10])"
      ]
     },
     "execution_count": 3,
     "metadata": {},
     "output_type": "execute_result"
    }
   ],
   "source": [
    "a"
   ]
  },
  {
   "cell_type": "code",
   "execution_count": 4,
   "id": "af29c099-90a3-40d9-99eb-39e9bf6143c1",
   "metadata": {},
   "outputs": [],
   "source": [
    "b=np.arange(1,11)"
   ]
  },
  {
   "cell_type": "code",
   "execution_count": 5,
   "id": "7957d325-1e18-4246-87c2-419dfe27e78f",
   "metadata": {},
   "outputs": [
    {
     "data": {
      "text/plain": [
       "array([ 1,  2,  3,  4,  5,  6,  7,  8,  9, 10])"
      ]
     },
     "execution_count": 5,
     "metadata": {},
     "output_type": "execute_result"
    }
   ],
   "source": [
    "b"
   ]
  },
  {
   "cell_type": "markdown",
   "id": "268f95ba-6154-434e-83ee-ceced0e4d641",
   "metadata": {},
   "source": [
    "**Create a 2D Numpy array (3x3) filled with zeros**"
   ]
  },
  {
   "cell_type": "code",
   "execution_count": 6,
   "id": "480f4983-39af-438b-baca-19bc5477e723",
   "metadata": {},
   "outputs": [],
   "source": [
    "c=np.zeros([3,3])"
   ]
  },
  {
   "cell_type": "code",
   "execution_count": 7,
   "id": "894a7d34-22a5-4a3d-8bfc-7c9625d85f86",
   "metadata": {},
   "outputs": [
    {
     "data": {
      "text/plain": [
       "array([[0., 0., 0.],\n",
       "       [0., 0., 0.],\n",
       "       [0., 0., 0.]])"
      ]
     },
     "execution_count": 7,
     "metadata": {},
     "output_type": "execute_result"
    }
   ],
   "source": [
    "c"
   ]
  },
  {
   "cell_type": "markdown",
   "id": "4a5661a7-c40e-4b0c-82a8-a9d6feff2be3",
   "metadata": {},
   "source": [
    "**Create a Numpy array of 5 filled with ones**"
   ]
  },
  {
   "cell_type": "code",
   "execution_count": 8,
   "id": "b7952646-c9d5-4eeb-8e31-560f67593785",
   "metadata": {},
   "outputs": [],
   "source": [
    "d=np.ones([5])"
   ]
  },
  {
   "cell_type": "code",
   "execution_count": 9,
   "id": "cb989a70-c470-407f-8838-31f32652fcd8",
   "metadata": {},
   "outputs": [
    {
     "data": {
      "text/plain": [
       "array([1., 1., 1., 1., 1.])"
      ]
     },
     "execution_count": 9,
     "metadata": {},
     "output_type": "execute_result"
    }
   ],
   "source": [
    "d"
   ]
  },
  {
   "cell_type": "markdown",
   "id": "4dbf7650-7e07-4bb7-a182-2176e564a78c",
   "metadata": {},
   "source": [
    "**Generate an array with values ranging from 10 to 50.**"
   ]
  },
  {
   "cell_type": "code",
   "execution_count": 10,
   "id": "9996fff8-3bc7-4ee7-9f36-7d256bccba03",
   "metadata": {},
   "outputs": [],
   "source": [
    "e=np.arange(10,51)"
   ]
  },
  {
   "cell_type": "code",
   "execution_count": 11,
   "id": "0b8657bd-be31-4d1d-9102-3eb3c2fb4d88",
   "metadata": {},
   "outputs": [
    {
     "data": {
      "text/plain": [
       "array([10, 11, 12, 13, 14, 15, 16, 17, 18, 19, 20, 21, 22, 23, 24, 25, 26,\n",
       "       27, 28, 29, 30, 31, 32, 33, 34, 35, 36, 37, 38, 39, 40, 41, 42, 43,\n",
       "       44, 45, 46, 47, 48, 49, 50])"
      ]
     },
     "execution_count": 11,
     "metadata": {},
     "output_type": "execute_result"
    }
   ],
   "source": [
    "e"
   ]
  },
  {
   "cell_type": "markdown",
   "id": "5b678468-0917-40e9-90e5-9d9ce92d9191",
   "metadata": {},
   "source": [
    "**Create an Array of 10 random numbers between 0 and 1**"
   ]
  },
  {
   "cell_type": "code",
   "execution_count": 12,
   "id": "4cafaa7a-7bb3-4c07-a315-228a5bdf0866",
   "metadata": {},
   "outputs": [],
   "source": [
    "f=np.linspace(0,1,10)"
   ]
  },
  {
   "cell_type": "code",
   "execution_count": 13,
   "id": "1efff087-d7ed-4caa-bfb9-11c4a729e76b",
   "metadata": {},
   "outputs": [
    {
     "data": {
      "text/plain": [
       "array([0.        , 0.11111111, 0.22222222, 0.33333333, 0.44444444,\n",
       "       0.55555556, 0.66666667, 0.77777778, 0.88888889, 1.        ])"
      ]
     },
     "execution_count": 13,
     "metadata": {},
     "output_type": "execute_result"
    }
   ],
   "source": [
    "f"
   ]
  },
  {
   "cell_type": "markdown",
   "id": "039d7ab0-8263-4132-bab3-5eac816ff966",
   "metadata": {},
   "source": [
    "**Extract the first three elements from numpy array**"
   ]
  },
  {
   "cell_type": "code",
   "execution_count": 14,
   "id": "9feae975-2ae5-43f5-b49b-b2b636dc65f3",
   "metadata": {},
   "outputs": [],
   "source": [
    "g=f[:3]"
   ]
  },
  {
   "cell_type": "code",
   "execution_count": 15,
   "id": "796c766a-a696-4e20-8202-e33c2dca0c39",
   "metadata": {},
   "outputs": [
    {
     "data": {
      "text/plain": [
       "array([0.        , 0.11111111, 0.22222222])"
      ]
     },
     "execution_count": 15,
     "metadata": {},
     "output_type": "execute_result"
    }
   ],
   "source": [
    "g"
   ]
  },
  {
   "cell_type": "code",
   "execution_count": 16,
   "id": "e75f8324-ee43-4b04-b348-b52670911ed8",
   "metadata": {},
   "outputs": [],
   "source": [
    "g1=np.array([[1,2,3],[4,5,6],[7,8,9]])"
   ]
  },
  {
   "cell_type": "code",
   "execution_count": 17,
   "id": "de3cf76b-05b1-4e8b-bac1-be6f29aeabf3",
   "metadata": {},
   "outputs": [
    {
     "data": {
      "text/plain": [
       "array([[1, 2, 3],\n",
       "       [4, 5, 6],\n",
       "       [7, 8, 9]])"
      ]
     },
     "execution_count": 17,
     "metadata": {},
     "output_type": "execute_result"
    }
   ],
   "source": [
    "g1"
   ]
  },
  {
   "cell_type": "markdown",
   "id": "0936d163-0904-4969-89a8-49baa6376077",
   "metadata": {},
   "source": [
    "**Retrieve the Last 2 Rows of 3x3 matrix**"
   ]
  },
  {
   "cell_type": "code",
   "execution_count": 18,
   "id": "df6fcad8-56d4-498f-a876-1880dec46cac",
   "metadata": {},
   "outputs": [],
   "source": [
    "h=g1[1:]"
   ]
  },
  {
   "cell_type": "code",
   "execution_count": 19,
   "id": "4dfc55f6-a230-41b6-bd22-d1a7a88127b5",
   "metadata": {},
   "outputs": [
    {
     "data": {
      "text/plain": [
       "array([[4, 5, 6],\n",
       "       [7, 8, 9]])"
      ]
     },
     "execution_count": 19,
     "metadata": {},
     "output_type": "execute_result"
    }
   ],
   "source": [
    "h"
   ]
  },
  {
   "cell_type": "markdown",
   "id": "96b5ff95-1a86-41f7-8cf5-b7fc1832d882",
   "metadata": {},
   "source": [
    "**Reverse a numpy array**"
   ]
  },
  {
   "cell_type": "code",
   "execution_count": 20,
   "id": "b2abfdfd-62d2-450d-9f4b-f99543d52872",
   "metadata": {},
   "outputs": [
    {
     "data": {
      "text/plain": [
       "array([[4, 7],\n",
       "       [5, 8],\n",
       "       [6, 9]])"
      ]
     },
     "execution_count": 20,
     "metadata": {},
     "output_type": "execute_result"
    }
   ],
   "source": [
    "h.T"
   ]
  },
  {
   "cell_type": "code",
   "execution_count": 21,
   "id": "e8a67ad2-c515-4ebd-9c1c-fcab9960a941",
   "metadata": {},
   "outputs": [
    {
     "data": {
      "text/plain": [
       "array([[1, 4, 7],\n",
       "       [2, 5, 8],\n",
       "       [3, 6, 9]])"
      ]
     },
     "execution_count": 21,
     "metadata": {},
     "output_type": "execute_result"
    }
   ],
   "source": [
    "g1.T"
   ]
  },
  {
   "cell_type": "markdown",
   "id": "1acd839f-6563-48fe-9550-aec493cd88ce",
   "metadata": {},
   "source": [
    "**Get every second element from an array**"
   ]
  },
  {
   "cell_type": "code",
   "execution_count": 22,
   "id": "487b6cf9-1562-4850-894b-b3ad109c864c",
   "metadata": {},
   "outputs": [],
   "source": [
    "i=g1[0,1]"
   ]
  },
  {
   "cell_type": "code",
   "execution_count": 23,
   "id": "14e3447b-f9f3-4380-90bb-a91f90bf0672",
   "metadata": {},
   "outputs": [
    {
     "data": {
      "text/plain": [
       "np.int64(2)"
      ]
     },
     "execution_count": 23,
     "metadata": {},
     "output_type": "execute_result"
    }
   ],
   "source": [
    "i"
   ]
  },
  {
   "cell_type": "code",
   "execution_count": 24,
   "id": "28414d89-d910-4597-a894-3e931ab3b190",
   "metadata": {},
   "outputs": [],
   "source": [
    "j=h[0,1],g1[0,2]"
   ]
  },
  {
   "cell_type": "code",
   "execution_count": 31,
   "id": "3b644a93-35c3-4f01-89e7-9d462351a46d",
   "metadata": {},
   "outputs": [
    {
     "data": {
      "text/plain": [
       "(np.int64(5), np.int64(3))"
      ]
     },
     "execution_count": 31,
     "metadata": {},
     "output_type": "execute_result"
    }
   ],
   "source": [
    "j"
   ]
  },
  {
   "cell_type": "markdown",
   "id": "905910df-558a-4036-9a35-762d03b05c61",
   "metadata": {},
   "source": [
    "**Reshape a 1D array of Size 9 into 3x3**"
   ]
  },
  {
   "cell_type": "code",
   "execution_count": 39,
   "id": "c6727ac8-7770-4b36-ad84-5d33293c646f",
   "metadata": {},
   "outputs": [],
   "source": [
    "k=np.arange(1,10)"
   ]
  },
  {
   "cell_type": "code",
   "execution_count": 40,
   "id": "889f301f-d5d6-4ff6-97e7-d2529dcb3de2",
   "metadata": {},
   "outputs": [
    {
     "data": {
      "text/plain": [
       "array([1, 2, 3, 4, 5, 6, 7, 8, 9])"
      ]
     },
     "execution_count": 40,
     "metadata": {},
     "output_type": "execute_result"
    }
   ],
   "source": [
    "k"
   ]
  },
  {
   "cell_type": "code",
   "execution_count": 46,
   "id": "20b70d9d-19dd-4a1c-8305-d844d2e11205",
   "metadata": {},
   "outputs": [],
   "source": [
    "j1=k.reshape(3,3)"
   ]
  },
  {
   "cell_type": "code",
   "execution_count": 47,
   "id": "f41744e1-331b-40e4-bd96-d28bb606c6eb",
   "metadata": {},
   "outputs": [
    {
     "data": {
      "text/plain": [
       "array([[1, 2, 3],\n",
       "       [4, 5, 6],\n",
       "       [7, 8, 9]])"
      ]
     },
     "execution_count": 47,
     "metadata": {},
     "output_type": "execute_result"
    }
   ],
   "source": [
    "j1"
   ]
  },
  {
   "cell_type": "markdown",
   "id": "670152ef-1e83-4d61-a960-4efa94fd854e",
   "metadata": {},
   "source": [
    "**Flatten a 2D array into a 1D array**"
   ]
  },
  {
   "cell_type": "code",
   "execution_count": 53,
   "id": "2f22e4e5-3b23-408b-b12f-ef9ee6bc6cb5",
   "metadata": {},
   "outputs": [
    {
     "data": {
      "text/plain": [
       "array([[1],\n",
       "       [2],\n",
       "       [3],\n",
       "       [4],\n",
       "       [5],\n",
       "       [6],\n",
       "       [7],\n",
       "       [8],\n",
       "       [9]])"
      ]
     },
     "execution_count": 53,
     "metadata": {},
     "output_type": "execute_result"
    }
   ],
   "source": [
    "j1.reshape(9,1)"
   ]
  },
  {
   "cell_type": "markdown",
   "id": "78f820cf-bc69-42ee-9730-3c725e6f50eb",
   "metadata": {},
   "source": [
    "**Stack two Numpy arrays vertically and horizontally**"
   ]
  },
  {
   "cell_type": "code",
   "execution_count": 54,
   "id": "480998dc-5822-4189-b897-0431b2234187",
   "metadata": {},
   "outputs": [
    {
     "data": {
      "text/plain": [
       "array([[1, 2, 3],\n",
       "       [4, 5, 6],\n",
       "       [7, 8, 9],\n",
       "       [1, 2, 3],\n",
       "       [4, 5, 6],\n",
       "       [7, 8, 9]])"
      ]
     },
     "execution_count": 54,
     "metadata": {},
     "output_type": "execute_result"
    }
   ],
   "source": [
    "np.vstack((g1,j1))"
   ]
  },
  {
   "cell_type": "code",
   "execution_count": 55,
   "id": "09102d99-abe4-43a6-917e-275bbf737239",
   "metadata": {},
   "outputs": [
    {
     "data": {
      "text/plain": [
       "array([[1, 2, 3, 1, 2, 3],\n",
       "       [4, 5, 6, 4, 5, 6],\n",
       "       [7, 8, 9, 7, 8, 9]])"
      ]
     },
     "execution_count": 55,
     "metadata": {},
     "output_type": "execute_result"
    }
   ],
   "source": [
    "np.hstack((g1,j1))"
   ]
  },
  {
   "cell_type": "markdown",
   "id": "08864afc-bce1-4f97-89b4-59169f43fdab",
   "metadata": {},
   "source": [
    "**Add,Subtract,Multiply and Divide two Numpy arrays**"
   ]
  },
  {
   "cell_type": "code",
   "execution_count": 65,
   "id": "a8520c26-6032-464b-a4e1-a253f5ddc653",
   "metadata": {},
   "outputs": [],
   "source": [
    "arr1=np.arange(10,19)"
   ]
  },
  {
   "cell_type": "code",
   "execution_count": 67,
   "id": "a49f24ab-bba8-4097-aef6-84309d7f6132",
   "metadata": {},
   "outputs": [
    {
     "data": {
      "text/plain": [
       "array([[10, 11, 12],\n",
       "       [13, 14, 15],\n",
       "       [16, 17, 18]])"
      ]
     },
     "execution_count": 67,
     "metadata": {},
     "output_type": "execute_result"
    }
   ],
   "source": [
    "arr1.reshape(3,3)"
   ]
  },
  {
   "cell_type": "code",
   "execution_count": 68,
   "id": "465aa096-21c5-433c-9c81-d9e27fd33ebb",
   "metadata": {},
   "outputs": [],
   "source": [
    "arr2=np.arange(20,29)"
   ]
  },
  {
   "cell_type": "code",
   "execution_count": 70,
   "id": "182f40bc-9f4d-4ce9-8e58-a62194e36b17",
   "metadata": {},
   "outputs": [
    {
     "data": {
      "text/plain": [
       "array([[20, 21, 22],\n",
       "       [23, 24, 25],\n",
       "       [26, 27, 28]])"
      ]
     },
     "execution_count": 70,
     "metadata": {},
     "output_type": "execute_result"
    }
   ],
   "source": [
    "arr2.reshape(3,3)"
   ]
  },
  {
   "cell_type": "code",
   "execution_count": 77,
   "id": "153972d6-7eed-4973-927f-ec4bc63b5fb3",
   "metadata": {},
   "outputs": [
    {
     "data": {
      "text/plain": [
       "array([[30, 32, 34],\n",
       "       [36, 38, 40],\n",
       "       [42, 44, 46]])"
      ]
     },
     "execution_count": 77,
     "metadata": {},
     "output_type": "execute_result"
    }
   ],
   "source": [
    "np.add(arr1, arr2).reshape(3,3)"
   ]
  },
  {
   "cell_type": "code",
   "execution_count": 108,
   "id": "2a31df13-39e1-4c7a-94d3-d206b199cdab",
   "metadata": {},
   "outputs": [],
   "source": [
    "w1=np.subtract(arr1, arr2).reshape(3,3)"
   ]
  },
  {
   "cell_type": "code",
   "execution_count": 109,
   "id": "9eccfd8e-6a71-43a3-8f38-eb1e3024ad93",
   "metadata": {},
   "outputs": [
    {
     "data": {
      "text/plain": [
       "array([[-10, -10, -10],\n",
       "       [-10, -10, -10],\n",
       "       [-10, -10, -10]])"
      ]
     },
     "execution_count": 109,
     "metadata": {},
     "output_type": "execute_result"
    }
   ],
   "source": [
    "w1"
   ]
  },
  {
   "cell_type": "code",
   "execution_count": 79,
   "id": "2db76002-3d42-41ae-9467-dddf2592a103",
   "metadata": {},
   "outputs": [
    {
     "data": {
      "text/plain": [
       "array([[200, 231, 264],\n",
       "       [299, 336, 375],\n",
       "       [416, 459, 504]])"
      ]
     },
     "execution_count": 79,
     "metadata": {},
     "output_type": "execute_result"
    }
   ],
   "source": [
    "np.multiply(arr1, arr2).reshape(3,3)"
   ]
  },
  {
   "cell_type": "code",
   "execution_count": 80,
   "id": "461fce7a-b8dd-44a8-919b-673487613ecf",
   "metadata": {},
   "outputs": [
    {
     "data": {
      "text/plain": [
       "array([[0.5       , 0.52380952, 0.54545455],\n",
       "       [0.56521739, 0.58333333, 0.6       ],\n",
       "       [0.61538462, 0.62962963, 0.64285714]])"
      ]
     },
     "execution_count": 80,
     "metadata": {},
     "output_type": "execute_result"
    }
   ],
   "source": [
    "np.divide(arr1, arr2).reshape(3,3)"
   ]
  },
  {
   "cell_type": "markdown",
   "id": "212e4dce-e638-4b1a-b905-3243c8189c2e",
   "metadata": {},
   "source": [
    "**Find the maximum, minimum, and mean values of an array.**"
   ]
  },
  {
   "cell_type": "code",
   "execution_count": 81,
   "id": "7a91a746-25dc-4693-82d9-c66db2ebc441",
   "metadata": {},
   "outputs": [
    {
     "data": {
      "text/plain": [
       "np.int64(18)"
      ]
     },
     "execution_count": 81,
     "metadata": {},
     "output_type": "execute_result"
    }
   ],
   "source": [
    "np.max(arr1)"
   ]
  },
  {
   "cell_type": "code",
   "execution_count": 82,
   "id": "6267cd2b-9b38-4ff8-be29-abfead7d8f6d",
   "metadata": {},
   "outputs": [
    {
     "data": {
      "text/plain": [
       "np.int64(10)"
      ]
     },
     "execution_count": 82,
     "metadata": {},
     "output_type": "execute_result"
    }
   ],
   "source": [
    "np.min(arr1)"
   ]
  },
  {
   "cell_type": "code",
   "execution_count": 83,
   "id": "5fcc6877-8595-472f-a890-e0bdffc82676",
   "metadata": {},
   "outputs": [
    {
     "data": {
      "text/plain": [
       "np.float64(14.0)"
      ]
     },
     "execution_count": 83,
     "metadata": {},
     "output_type": "execute_result"
    }
   ],
   "source": [
    "np.mean(arr1)"
   ]
  },
  {
   "cell_type": "code",
   "execution_count": 84,
   "id": "d3080bb1-174f-441f-9c9b-fe8699f0f193",
   "metadata": {},
   "outputs": [
    {
     "data": {
      "text/plain": [
       "np.float64(24.0)"
      ]
     },
     "execution_count": 84,
     "metadata": {},
     "output_type": "execute_result"
    }
   ],
   "source": [
    "np.mean(arr2)"
   ]
  },
  {
   "cell_type": "markdown",
   "id": "dec226bc-e0f8-49e3-ac87-448610215285",
   "metadata": {},
   "source": [
    "**Compute the sum of all elements in an array.**"
   ]
  },
  {
   "cell_type": "code",
   "execution_count": 85,
   "id": "5b364bf4-7ace-4383-9743-31c22dddfad9",
   "metadata": {},
   "outputs": [
    {
     "data": {
      "text/plain": [
       "np.int64(126)"
      ]
     },
     "execution_count": 85,
     "metadata": {},
     "output_type": "execute_result"
    }
   ],
   "source": [
    "np.sum(arr1)"
   ]
  },
  {
   "cell_type": "markdown",
   "id": "23584002-d13c-44ad-92c4-578c13ad8d03",
   "metadata": {},
   "source": [
    "**Find the square root and exponential of each element in an array.**"
   ]
  },
  {
   "cell_type": "code",
   "execution_count": 90,
   "id": "35f552f7-5b0c-4199-ae42-011f5c33f059",
   "metadata": {},
   "outputs": [
    {
     "data": {
      "text/plain": [
       "array([3.16227766, 3.31662479, 3.46410162, 3.60555128, 3.74165739,\n",
       "       3.87298335, 4.        , 4.12310563, 4.24264069])"
      ]
     },
     "execution_count": 90,
     "metadata": {},
     "output_type": "execute_result"
    }
   ],
   "source": [
    "np.sqrt(arr1)"
   ]
  },
  {
   "cell_type": "code",
   "execution_count": 91,
   "id": "2e7d09c1-1938-44fc-968c-be804ae0e345",
   "metadata": {},
   "outputs": [
    {
     "data": {
      "text/plain": [
       "array([4.47213595, 4.58257569, 4.69041576, 4.79583152, 4.89897949,\n",
       "       5.        , 5.09901951, 5.19615242, 5.29150262])"
      ]
     },
     "execution_count": 91,
     "metadata": {},
     "output_type": "execute_result"
    }
   ],
   "source": [
    "np.sqrt(arr2)"
   ]
  },
  {
   "cell_type": "code",
   "execution_count": 97,
   "id": "73fc82d6-3ac0-4c64-a2c5-79108a514ff1",
   "metadata": {},
   "outputs": [
    {
     "data": {
      "text/plain": [
       "array([2.20264658e+04, 5.98741417e+04, 1.62754791e+05, 4.42413392e+05,\n",
       "       1.20260428e+06, 3.26901737e+06, 8.88611052e+06, 2.41549528e+07,\n",
       "       6.56599691e+07])"
      ]
     },
     "execution_count": 97,
     "metadata": {},
     "output_type": "execute_result"
    }
   ],
   "source": [
    "np.exp(arr1)"
   ]
  },
  {
   "cell_type": "code",
   "execution_count": 98,
   "id": "2fd375b4-2656-4e81-a2b6-d38d95fe62ef",
   "metadata": {},
   "outputs": [
    {
     "data": {
      "text/plain": [
       "array([4.85165195e+08, 1.31881573e+09, 3.58491285e+09, 9.74480345e+09,\n",
       "       2.64891221e+10, 7.20048993e+10, 1.95729609e+11, 5.32048241e+11,\n",
       "       1.44625706e+12])"
      ]
     },
     "execution_count": 98,
     "metadata": {},
     "output_type": "execute_result"
    }
   ],
   "source": [
    "np.exp(arr2)"
   ]
  },
  {
   "cell_type": "markdown",
   "id": "b868b0c0-a0a4-4369-8151-2ff418009c0e",
   "metadata": {},
   "source": [
    "**Find all even numbers in a NumPy array.**"
   ]
  },
  {
   "cell_type": "code",
   "execution_count": 100,
   "id": "8d0ab158-cdd4-4f4f-819f-098c6c539950",
   "metadata": {},
   "outputs": [],
   "source": [
    "a1=np.array([[2,4,6],[3,5,7],[1,3,9]])"
   ]
  },
  {
   "cell_type": "code",
   "execution_count": 101,
   "id": "30f2a668-27ec-4f99-9fad-66f3f48dabde",
   "metadata": {},
   "outputs": [
    {
     "data": {
      "text/plain": [
       "array([[2, 4, 6],\n",
       "       [3, 5, 7],\n",
       "       [1, 3, 9]])"
      ]
     },
     "execution_count": 101,
     "metadata": {},
     "output_type": "execute_result"
    }
   ],
   "source": [
    "a1"
   ]
  },
  {
   "cell_type": "code",
   "execution_count": 103,
   "id": "f384719a-e58a-4057-b490-1abb992c0b28",
   "metadata": {},
   "outputs": [],
   "source": [
    "a2=a1[a1%2==0]"
   ]
  },
  {
   "cell_type": "code",
   "execution_count": 104,
   "id": "cf11bf8d-a10d-4dd8-bee5-3659cb54610a",
   "metadata": {},
   "outputs": [
    {
     "data": {
      "text/plain": [
       "array([2, 4, 6])"
      ]
     },
     "execution_count": 104,
     "metadata": {},
     "output_type": "execute_result"
    }
   ],
   "source": [
    "a2"
   ]
  },
  {
   "cell_type": "markdown",
   "id": "46958e49-c524-4bb5-b8db-8d6835e450d0",
   "metadata": {},
   "source": [
    "**For Odd Number**"
   ]
  },
  {
   "cell_type": "code",
   "execution_count": 105,
   "id": "3e4a4d62-6476-4416-bb82-06861f2c3966",
   "metadata": {},
   "outputs": [],
   "source": [
    "a3=a1[a1%2==1]"
   ]
  },
  {
   "cell_type": "code",
   "execution_count": 107,
   "id": "03c0c114-eede-445d-9212-028f95c5e2b8",
   "metadata": {},
   "outputs": [
    {
     "data": {
      "text/plain": [
       "array([3, 5, 7, 1, 3, 9])"
      ]
     },
     "execution_count": 107,
     "metadata": {},
     "output_type": "execute_result"
    }
   ],
   "source": [
    "a3"
   ]
  },
  {
   "cell_type": "markdown",
   "id": "dda080f3-0792-4439-b6f0-89de7875db63",
   "metadata": {},
   "source": [
    "**Replace all negative numbers in an array with zero.**"
   ]
  },
  {
   "cell_type": "code",
   "execution_count": 125,
   "id": "c431799a-b1ca-4363-bc0e-f819a263ba77",
   "metadata": {},
   "outputs": [],
   "source": [
    "a4=np.array([[2,-3,-5],[-9,7,3],[-3,4,5]])"
   ]
  },
  {
   "cell_type": "code",
   "execution_count": 126,
   "id": "c5d5da8c-fdc2-4b4e-90cf-d929e37e6893",
   "metadata": {},
   "outputs": [
    {
     "data": {
      "text/plain": [
       "array([[ 2, -3, -5],\n",
       "       [-9,  7,  3],\n",
       "       [-3,  4,  5]])"
      ]
     },
     "execution_count": 126,
     "metadata": {},
     "output_type": "execute_result"
    }
   ],
   "source": [
    "a4"
   ]
  },
  {
   "cell_type": "code",
   "execution_count": 127,
   "id": "07c8e0da-cf2e-4c20-b640-adfa3f17dfe9",
   "metadata": {},
   "outputs": [],
   "source": [
    "a4[a4<0]=0"
   ]
  },
  {
   "cell_type": "code",
   "execution_count": 128,
   "id": "0644016a-bc32-4038-9c58-631bb96f7937",
   "metadata": {},
   "outputs": [
    {
     "data": {
      "text/plain": [
       "array([[2, 0, 0],\n",
       "       [0, 7, 3],\n",
       "       [0, 4, 5]])"
      ]
     },
     "execution_count": 128,
     "metadata": {},
     "output_type": "execute_result"
    }
   ],
   "source": [
    "a4"
   ]
  },
  {
   "cell_type": "markdown",
   "id": "26f5e88d-9436-4acf-bae1-1c78d7482552",
   "metadata": {},
   "source": [
    "**Extract all numbers greater than 10 from an array**"
   ]
  },
  {
   "cell_type": "code",
   "execution_count": 129,
   "id": "03aacfe8-6d91-4dac-93cd-99ec989d52ad",
   "metadata": {},
   "outputs": [],
   "source": [
    "b2=np.array([[1,9,12],[23,44,8],[34,56,54]])"
   ]
  },
  {
   "cell_type": "code",
   "execution_count": 130,
   "id": "bd3c25d5-4018-48de-a26d-31e6aa4a369f",
   "metadata": {},
   "outputs": [
    {
     "data": {
      "text/plain": [
       "array([[ 1,  9, 12],\n",
       "       [23, 44,  8],\n",
       "       [34, 56, 54]])"
      ]
     },
     "execution_count": 130,
     "metadata": {},
     "output_type": "execute_result"
    }
   ],
   "source": [
    "b2"
   ]
  },
  {
   "cell_type": "code",
   "execution_count": 131,
   "id": "bfb8e969-7566-4a71-b39c-fed9f480b8a0",
   "metadata": {},
   "outputs": [
    {
     "data": {
      "text/plain": [
       "array([12, 23, 44, 34, 56, 54])"
      ]
     },
     "execution_count": 131,
     "metadata": {},
     "output_type": "execute_result"
    }
   ],
   "source": [
    "b2[b2>10]"
   ]
  },
  {
   "cell_type": "markdown",
   "id": "03ce1662-0bfc-4c9f-a87f-8712a30c13b8",
   "metadata": {},
   "source": [
    "**Create a NumPy identity matrix of size 4x4.**"
   ]
  },
  {
   "cell_type": "code",
   "execution_count": 139,
   "id": "c5dea9ef-a6a6-4658-93df-30a863e20d92",
   "metadata": {},
   "outputs": [],
   "source": [
    "c2=np.identity(4)"
   ]
  },
  {
   "cell_type": "code",
   "execution_count": 140,
   "id": "88712ad5-96af-4510-8889-a399ded31f1b",
   "metadata": {},
   "outputs": [
    {
     "data": {
      "text/plain": [
       "array([[1., 0., 0., 0.],\n",
       "       [0., 1., 0., 0.],\n",
       "       [0., 0., 1., 0.],\n",
       "       [0., 0., 0., 1.]])"
      ]
     },
     "execution_count": 140,
     "metadata": {},
     "output_type": "execute_result"
    }
   ],
   "source": [
    "c2"
   ]
  },
  {
   "cell_type": "markdown",
   "id": "5d34b4da-28f3-49d7-886a-6ed0951fda33",
   "metadata": {},
   "source": [
    "**Generate a NumPy array of 20 random integers between 1 and 100 and sort them.**"
   ]
  },
  {
   "cell_type": "code",
   "execution_count": 154,
   "id": "0dc6e24a-15e2-4913-8695-e32e5da4c2c4",
   "metadata": {},
   "outputs": [],
   "source": [
    "d1=np.linspace(1,100,20,dtype=int)"
   ]
  },
  {
   "cell_type": "code",
   "execution_count": 155,
   "id": "5a3c7fc3-67db-4038-8b94-0128a1d028d5",
   "metadata": {},
   "outputs": [
    {
     "data": {
      "text/plain": [
       "array([  1,   6,  11,  16,  21,  27,  32,  37,  42,  47,  53,  58,  63,\n",
       "        68,  73,  79,  84,  89,  94, 100])"
      ]
     },
     "execution_count": 155,
     "metadata": {},
     "output_type": "execute_result"
    }
   ],
   "source": [
    "d1"
   ]
  },
  {
   "cell_type": "markdown",
   "id": "bcaca19b-4d0d-45f7-9b4f-1adc065aa0a7",
   "metadata": {},
   "source": [
    "**Find the dot product of two matrices.**"
   ]
  },
  {
   "cell_type": "code",
   "execution_count": 159,
   "id": "2b96b3e5-8010-4780-8432-a50d038f3c1b",
   "metadata": {},
   "outputs": [
    {
     "data": {
      "text/plain": [
       "array([[  2,  18,  24],\n",
       "       [ 46,  88,  16],\n",
       "       [ 68, 112, 108]])"
      ]
     },
     "execution_count": 159,
     "metadata": {},
     "output_type": "execute_result"
    }
   ],
   "source": [
    "np.dot(b2,2)"
   ]
  },
  {
   "cell_type": "code",
   "execution_count": 161,
   "id": "873fcbba-c3e7-4c7c-94c3-e5ee8ad3d107",
   "metadata": {},
   "outputs": [],
   "source": [
    "l1=np.array([[1,2,3],[4,5,6],[7,8,9]])"
   ]
  },
  {
   "cell_type": "code",
   "execution_count": 162,
   "id": "251e5a48-661d-49fc-87dc-fe9bfd812d49",
   "metadata": {},
   "outputs": [
    {
     "data": {
      "text/plain": [
       "array([[1, 2, 3],\n",
       "       [4, 5, 6],\n",
       "       [7, 8, 9]])"
      ]
     },
     "execution_count": 162,
     "metadata": {},
     "output_type": "execute_result"
    }
   ],
   "source": [
    "l1"
   ]
  },
  {
   "cell_type": "code",
   "execution_count": 163,
   "id": "fa50941e-3642-4244-b2be-2e914f17b3d8",
   "metadata": {},
   "outputs": [],
   "source": [
    "l2=np.array([[10,11,12],[13,14,15],[16,17,18]])"
   ]
  },
  {
   "cell_type": "code",
   "execution_count": 164,
   "id": "9bfcc6bb-9cc9-4f0f-859c-d91c19b01fc2",
   "metadata": {},
   "outputs": [
    {
     "data": {
      "text/plain": [
       "array([[10, 11, 12],\n",
       "       [13, 14, 15],\n",
       "       [16, 17, 18]])"
      ]
     },
     "execution_count": 164,
     "metadata": {},
     "output_type": "execute_result"
    }
   ],
   "source": [
    "l2"
   ]
  },
  {
   "cell_type": "code",
   "execution_count": 165,
   "id": "5bb0a920-f956-41de-b333-8152a5ecccd3",
   "metadata": {},
   "outputs": [
    {
     "data": {
      "text/plain": [
       "array([[ 84,  90,  96],\n",
       "       [201, 216, 231],\n",
       "       [318, 342, 366]])"
      ]
     },
     "execution_count": 165,
     "metadata": {},
     "output_type": "execute_result"
    }
   ],
   "source": [
    "np.dot(l1,l2)"
   ]
  },
  {
   "cell_type": "code",
   "execution_count": null,
   "id": "f2afa2d6-2993-4ab4-99c9-8cbaacfdb62b",
   "metadata": {},
   "outputs": [],
   "source": []
  }
 ],
 "metadata": {
  "kernelspec": {
   "display_name": "Python 3 (ipykernel)",
   "language": "python",
   "name": "python3"
  },
  "language_info": {
   "codemirror_mode": {
    "name": "ipython",
    "version": 3
   },
   "file_extension": ".py",
   "mimetype": "text/x-python",
   "name": "python",
   "nbconvert_exporter": "python",
   "pygments_lexer": "ipython3",
   "version": "3.13.0"
  }
 },
 "nbformat": 4,
 "nbformat_minor": 5
}
